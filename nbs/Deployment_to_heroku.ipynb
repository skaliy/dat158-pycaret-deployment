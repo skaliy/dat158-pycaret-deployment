{
 "cells": [
  {
   "cell_type": "markdown",
   "id": "244abc65-5aba-424e-a756-d00b6cee96c2",
   "metadata": {},
   "source": [
    "# Deploy the web app to Heroku"
   ]
  },
  {
   "cell_type": "markdown",
   "id": "5123b243-160b-4f20-9676-538c2a3377bc",
   "metadata": {},
   "source": [
    "The machine learning pipeline is ready, and the application is tested on our local machine, we are ready to start our deployment on Heroku."
   ]
  },
  {
   "cell_type": "markdown",
   "id": "d72aa171-762d-4d68-9fe6-288b063f8e61",
   "metadata": {},
   "source": [
    "## requirements.txt \n",
    "\n",
    "file is a text file containing the names of the python packages required to execute the application. If these packages are not installed in the environment where the application is running, it will fail."
   ]
  },
  {
   "cell_type": "markdown",
   "id": "958c8bc3-8eed-42ec-8ea9-9366fd0d1995",
   "metadata": {},
   "source": [
    "## setup.sh\n",
    "setup.sh is a script programmed for bash. It contains instructions written in the Bash language and like requirements.txt, it is used for creating the necessary environment for our streamlit app to run on the cloud."
   ]
  },
  {
   "cell_type": "markdown",
   "id": "20f1606b-52f3-42bf-be3e-fe56f0c206f8",
   "metadata": {},
   "source": [
    "## Procfile\n",
    "Procfile is simply one line of code that provides startup instructions to the web server that indicate which file should be executed when an application is triggered."
   ]
  },
  {
   "cell_type": "markdown",
   "id": "dcfcf20c-2748-4727-bef8-860238ac484d",
   "metadata": {},
   "source": [
    "#  Heroku\n",
    "1. Signup \n",
    "2. Create a new app \n",
    "3. Connect to the GitHub repository \n",
    "4. Deploy a branch (\n",
    "5. "
   ]
  },
  {
   "cell_type": "markdown",
   "id": "7795af6c-c804-4b4a-be75-793f01ad4af7",
   "metadata": {},
   "source": [
    "Reference: https://towardsdatascience.com/build-and-deploy-machine-learning-web-app-using-pycaret-and-streamlit-28883a569104"
   ]
  }
 ],
 "metadata": {
  "kernelspec": {
   "display_name": "Python (py158)",
   "language": "python",
   "name": "py158"
  },
  "language_info": {
   "codemirror_mode": {
    "name": "ipython",
    "version": 3
   },
   "file_extension": ".py",
   "mimetype": "text/x-python",
   "name": "python",
   "nbconvert_exporter": "python",
   "pygments_lexer": "ipython3",
   "version": "3.9.7"
  }
 },
 "nbformat": 4,
 "nbformat_minor": 5
}
