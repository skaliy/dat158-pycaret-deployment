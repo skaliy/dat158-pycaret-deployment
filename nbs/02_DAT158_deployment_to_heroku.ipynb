{
 "cells": [
  {
   "cell_type": "markdown",
   "id": "244abc65-5aba-424e-a756-d00b6cee96c2",
   "metadata": {},
   "source": [
    "# Deploy the web app to Heroku"
   ]
  },
  {
   "cell_type": "markdown",
   "id": "259110e6-7002-4a83-9b9b-74c26e1caca0",
   "metadata": {},
   "source": [
    "## Required files in the project folder: \n",
    "    1. requirements.txt: containing the names of the python packages required to execute the application.\n",
    "    2. setup.sh: Bash script used for creating the necessary environment for our streamlit app to run on the cloud.\n",
    "    3. Procfile: Code that provides startup instructions to the web server that indicate which file should be executed when an application is triggered."
   ]
  },
  {
   "cell_type": "markdown",
   "id": "07d49d61-826e-4d8b-a80f-929f172f97aa",
   "metadata": {},
   "source": [
    "Push all the files to your GitHub repository"
   ]
  },
  {
   "cell_type": "markdown",
   "id": "dcfcf20c-2748-4727-bef8-860238ac484d",
   "metadata": {},
   "source": [
    "##  Heroku\n",
    "1. Signup \n",
    "2. Create a new app \n",
    "3. Connect to the GitHub repository \n",
    "4. Deploy a branch"
   ]
  },
  {
   "cell_type": "markdown",
   "id": "7795af6c-c804-4b4a-be75-793f01ad4af7",
   "metadata": {},
   "source": [
    "Reference: https://towardsdatascience.com/build-and-deploy-machine-learning-web-app-using-pycaret-and-streamlit-28883a569104"
   ]
  }
 ],
 "metadata": {
  "kernelspec": {
   "display_name": "Python (py158)",
   "language": "python",
   "name": "py158"
  },
  "language_info": {
   "codemirror_mode": {
    "name": "ipython",
    "version": 3
   },
   "file_extension": ".py",
   "mimetype": "text/x-python",
   "name": "python",
   "nbconvert_exporter": "python",
   "pygments_lexer": "ipython3",
   "version": "3.9.7"
  }
 },
 "nbformat": 4,
 "nbformat_minor": 5
}
