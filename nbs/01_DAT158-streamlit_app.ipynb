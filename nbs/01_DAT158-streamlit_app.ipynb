{
 "cells": [
  {
   "cell_type": "code",
   "execution_count": 1,
   "id": "71ed5b22-9f1c-4eed-b62f-44fa3e78efdf",
   "metadata": {},
   "outputs": [],
   "source": [
    "#pip install streamlit"
   ]
  },
  {
   "cell_type": "code",
   "execution_count": null,
   "id": "a030eb42-58a2-449f-8f95-1cfd8b9971cf",
   "metadata": {},
   "outputs": [],
   "source": [
    "from pycaret.classification import load_model, predict_model \n",
    "import pandas as pd \n",
    "import numpy as np\n",
    "import streamlit as st\n",
    "from PIL import Image\n",
    "import os"
   ]
  },
  {
   "cell_type": "code",
   "execution_count": 6,
   "id": "db6a2499-e9d5-4438-891b-89d176e8b781",
   "metadata": {},
   "outputs": [
    {
     "name": "stderr",
     "output_type": "stream",
     "text": [
      "2021-10-05 18:36:32.722 Initializing load_model()\n",
      "2021-10-05 18:36:32.724 load_model(model_name=final_model_heart_failure, platform=None, authentication=None, verbose=True)\n"
     ]
    },
    {
     "name": "stdout",
     "output_type": "stream",
     "text": [
      "Transformation Pipeline and Model Successfully Loaded\n"
     ]
    }
   ],
   "source": [
    "class StreamlitApp:\n",
    "    \n",
    "    def __init__(self):\n",
    "        self.model = load_model('final_model_heart_failure') \n",
    "        self.save_fn = 'path.csv'     \n",
    "        \n",
    "    def predict(self, input_data): \n",
    "        return predict_model(self.model, data=input_data)\n",
    "    \n",
    "    def store_prediction(self, output_df): \n",
    "        if os.path.exists(self.save_fn):\n",
    "            save_df = pd.read_csv(self.save_fn)\n",
    "            save_df = save_df.append(output_df, ignore_index=True)\n",
    "            save_df.to_csv(self.save_fn, index=False)\n",
    "            \n",
    "        else: \n",
    "            output_df.to_csv(self.save_fn, index=False)  \n",
    "            \n",
    "    \n",
    "    def run(self):\n",
    "        image = Image.open('../assets/human-heart.jpg')\n",
    "        st.image(image, use_column_width=False)\n",
    "    \n",
    "    \n",
    "        add_selectbox = st.sidebar.selectbox('How would you like to predict?', ('Online', 'Batch')) #bruke batch for aa predikere paa alle bildene. \n",
    "        st.sidebar.info('This app is created to predict heart failure' )\n",
    "        st.sidebar.success('DAT158')\n",
    "        st.title('Heart failure prediction')\n",
    "        \n",
    "       \n",
    "        if add_selectbox == 'Online': \n",
    "            age = st.number_input('Age', min_value=18, max_value=100, value=25) #remember trained on age between ...\n",
    "            sex = st.selectbox('Sex', ['M', 'F'])\n",
    "            chest_pain_type = st.selectbox('ChestPainType', ['ASY', 'NAP', 'ATA', 'TA'])\n",
    "            resting_bp = st.number_input('RestingBP', min_value=0, max_value=210, value=60)\n",
    "            cholesterol = st.number_input('Cholesterol', min_value=0, max_value=605, value=200)            \n",
    "            resting_ECG = st.selectbox('RestingECG', ['Normal', 'LVH', 'ST'])\n",
    "            max_hr = st.number_input('MaxHR', min_value=0, max_value=210, value=140)\n",
    "            oldpeak = st.slider('Oldpeak',min_value=0.0, max_value=7.0, value=1.0, step=0.1)  \n",
    "            st_slope = st.selectbox('ST_Slope', ['Flat', 'Up', 'Down'])\n",
    "            \n",
    "            \n",
    "            fasting_bs, exercise_angina= False, False\n",
    "            if st.checkbox('FastingBS'): fasting_bs=True\n",
    "\n",
    "            if st.checkbox('ExerciseAngina'): exercise_angina=True\n",
    "            \n",
    "\n",
    "            \n",
    "            output=''\n",
    "            input_dict = {'Age':age, 'Sex':sex, 'ChestPainType':chest_pain_type, 'RestingBP':resting_bp, 'Cholesterol':cholesterol, 'is_FastingBS':fasting_bs, \n",
    "                          'RestingECG':resting_ECG, 'MaxHR':max_hr, 'is_ExerciseAngina':exercise_angina, 'Oldpeak':oldpeak, 'ST_Slope':st_slope}\n",
    "            input_df = pd.DataFrame(input_dict, index=[0])\n",
    "        \n",
    "            if st.button('Predict'): \n",
    "                output = self.predict(input_df)\n",
    "                self.store_prediction(output)\n",
    "                \n",
    "                output = 'Heart disease' if output['Label'][0] == 1 else 'Normal'\n",
    "                #output = str(output['Label'])\n",
    "                \n",
    "            \n",
    "            st.success('Predicted output: {}'.format(output))\n",
    "            \n",
    "        if add_selectbox == 'Batch': \n",
    "            fn = st.file_uploader(\"Upload csv file for predictions\") #st.file_uploader('Upload csv file for predictions, type=[\"csv\"]')\n",
    "            if fn is not None: \n",
    "                input_df = pd.read_csv(fn)\n",
    "                predictions = self.predict(input_df)\n",
    "                st.write(predictions)\n",
    "            \n",
    "sa = StreamlitApp()\n",
    "sa.run()"
   ]
  },
  {
   "cell_type": "code",
   "execution_count": 7,
   "id": "e63f6e02-1215-4790-8ba8-d0c664480708",
   "metadata": {},
   "outputs": [
    {
     "name": "stdout",
     "output_type": "stream",
     "text": [
      "[NbConvertApp] Converting notebook 01_DAT158-streamlit_app.ipynb to script\n",
      "[NbConvertApp] Writing 3619 bytes to 01_DAT158-streamlit_app.py\n"
     ]
    }
   ],
   "source": [
    "!jupyter nbconvert --to script 01_DAT158-streamlit_app.ipynb"
   ]
  },
  {
   "cell_type": "code",
   "execution_count": null,
   "id": "16124d01-07c2-427f-a597-530c8dfa2a86",
   "metadata": {},
   "outputs": [],
   "source": []
  }
 ],
 "metadata": {
  "kernelspec": {
   "display_name": "Python (py158)",
   "language": "python",
   "name": "py158"
  },
  "language_info": {
   "codemirror_mode": {
    "name": "ipython",
    "version": 3
   },
   "file_extension": ".py",
   "mimetype": "text/x-python",
   "name": "python",
   "nbconvert_exporter": "python",
   "pygments_lexer": "ipython3",
   "version": "3.9.7"
  }
 },
 "nbformat": 4,
 "nbformat_minor": 5
}
