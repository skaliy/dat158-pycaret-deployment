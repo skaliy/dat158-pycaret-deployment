{
 "cells": [
  {
   "cell_type": "markdown",
   "id": "2393defc-2159-4b3b-b2a5-ee5d254b6753",
   "metadata": {},
   "source": [
    "# Context: Predict Heart Failure"
   ]
  },
  {
   "cell_type": "markdown",
   "id": "7bde67ac-9ca5-4468-b399-b7535daa5523",
   "metadata": {},
   "source": [
    "- Cardiovascular diseases (CVDs) are the leading cause of death globally \n",
    "- An estimated 17.9 million people died from CVDs in 2019, representing 32% of all global deaths. Of these deaths, 85% were due to heart attack and stroke.\n",
    "\n",
    "https://www.who.int/news-room/fact-sheets/detail/cardiovascular-diseases-(cvds)"
   ]
  },
  {
   "cell_type": "markdown",
   "id": "d6edbfbd-b21d-49c2-8310-ffcfee89c212",
   "metadata": {
    "tags": []
   },
   "source": [
    "# Inspiration\n",
    "\n",
    "People with cardiovascular disease or who are at high cardiovascular risk need early detection and management wherein a machine learning model can be of great help."
   ]
  },
  {
   "cell_type": "code",
   "execution_count": 1,
   "id": "e580a649-87bd-42e5-a515-de45846ea512",
   "metadata": {},
   "outputs": [],
   "source": [
    "from pathlib import Path\n",
    "import pandas as pd\n",
    "from sklearn.model_selection import train_test_split"
   ]
  },
  {
   "cell_type": "code",
   "execution_count": 2,
   "id": "a0bd78af-d036-4606-92df-7230880ca5fd",
   "metadata": {},
   "outputs": [],
   "source": [
    "NB_DIR = %pwd\n",
    "NB_DIR = Path(NB_DIR)"
   ]
  },
  {
   "cell_type": "code",
   "execution_count": 3,
   "id": "2e911486-ca71-403c-8713-8fc27a5ecd40",
   "metadata": {
    "tags": []
   },
   "outputs": [],
   "source": [
    "dataset = pd.read_csv(NB_DIR/'data'/'heart.csv') "
   ]
  },
  {
   "cell_type": "code",
   "execution_count": 4,
   "id": "43e0a257-58b5-45fe-a1ec-e044fcab9831",
   "metadata": {},
   "outputs": [
    {
     "data": {
      "text/html": [
       "<div>\n",
       "<style scoped>\n",
       "    .dataframe tbody tr th:only-of-type {\n",
       "        vertical-align: middle;\n",
       "    }\n",
       "\n",
       "    .dataframe tbody tr th {\n",
       "        vertical-align: top;\n",
       "    }\n",
       "\n",
       "    .dataframe thead th {\n",
       "        text-align: right;\n",
       "    }\n",
       "</style>\n",
       "<table border=\"1\" class=\"dataframe\">\n",
       "  <thead>\n",
       "    <tr style=\"text-align: right;\">\n",
       "      <th></th>\n",
       "      <th>Age</th>\n",
       "      <th>Sex</th>\n",
       "      <th>ChestPainType</th>\n",
       "      <th>RestingBP</th>\n",
       "      <th>Cholesterol</th>\n",
       "      <th>FastingBS</th>\n",
       "      <th>RestingECG</th>\n",
       "      <th>MaxHR</th>\n",
       "      <th>ExerciseAngina</th>\n",
       "      <th>Oldpeak</th>\n",
       "      <th>ST_Slope</th>\n",
       "      <th>HeartDisease</th>\n",
       "    </tr>\n",
       "  </thead>\n",
       "  <tbody>\n",
       "    <tr>\n",
       "      <th>0</th>\n",
       "      <td>40</td>\n",
       "      <td>M</td>\n",
       "      <td>ATA</td>\n",
       "      <td>140</td>\n",
       "      <td>289</td>\n",
       "      <td>0</td>\n",
       "      <td>Normal</td>\n",
       "      <td>172</td>\n",
       "      <td>N</td>\n",
       "      <td>0.0</td>\n",
       "      <td>Up</td>\n",
       "      <td>0</td>\n",
       "    </tr>\n",
       "    <tr>\n",
       "      <th>1</th>\n",
       "      <td>49</td>\n",
       "      <td>F</td>\n",
       "      <td>NAP</td>\n",
       "      <td>160</td>\n",
       "      <td>180</td>\n",
       "      <td>0</td>\n",
       "      <td>Normal</td>\n",
       "      <td>156</td>\n",
       "      <td>N</td>\n",
       "      <td>1.0</td>\n",
       "      <td>Flat</td>\n",
       "      <td>1</td>\n",
       "    </tr>\n",
       "    <tr>\n",
       "      <th>2</th>\n",
       "      <td>37</td>\n",
       "      <td>M</td>\n",
       "      <td>ATA</td>\n",
       "      <td>130</td>\n",
       "      <td>283</td>\n",
       "      <td>0</td>\n",
       "      <td>ST</td>\n",
       "      <td>98</td>\n",
       "      <td>N</td>\n",
       "      <td>0.0</td>\n",
       "      <td>Up</td>\n",
       "      <td>0</td>\n",
       "    </tr>\n",
       "    <tr>\n",
       "      <th>3</th>\n",
       "      <td>48</td>\n",
       "      <td>F</td>\n",
       "      <td>ASY</td>\n",
       "      <td>138</td>\n",
       "      <td>214</td>\n",
       "      <td>0</td>\n",
       "      <td>Normal</td>\n",
       "      <td>108</td>\n",
       "      <td>Y</td>\n",
       "      <td>1.5</td>\n",
       "      <td>Flat</td>\n",
       "      <td>1</td>\n",
       "    </tr>\n",
       "    <tr>\n",
       "      <th>4</th>\n",
       "      <td>54</td>\n",
       "      <td>M</td>\n",
       "      <td>NAP</td>\n",
       "      <td>150</td>\n",
       "      <td>195</td>\n",
       "      <td>0</td>\n",
       "      <td>Normal</td>\n",
       "      <td>122</td>\n",
       "      <td>N</td>\n",
       "      <td>0.0</td>\n",
       "      <td>Up</td>\n",
       "      <td>0</td>\n",
       "    </tr>\n",
       "  </tbody>\n",
       "</table>\n",
       "</div>"
      ],
      "text/plain": [
       "   Age Sex ChestPainType  RestingBP  Cholesterol  FastingBS RestingECG  MaxHR  \\\n",
       "0   40   M           ATA        140          289          0     Normal    172   \n",
       "1   49   F           NAP        160          180          0     Normal    156   \n",
       "2   37   M           ATA        130          283          0         ST     98   \n",
       "3   48   F           ASY        138          214          0     Normal    108   \n",
       "4   54   M           NAP        150          195          0     Normal    122   \n",
       "\n",
       "  ExerciseAngina  Oldpeak ST_Slope  HeartDisease  \n",
       "0              N      0.0       Up             0  \n",
       "1              N      1.0     Flat             1  \n",
       "2              N      0.0       Up             0  \n",
       "3              Y      1.5     Flat             1  \n",
       "4              N      0.0       Up             0  "
      ]
     },
     "execution_count": 4,
     "metadata": {},
     "output_type": "execute_result"
    }
   ],
   "source": [
    "dataset.head()"
   ]
  },
  {
   "cell_type": "markdown",
   "id": "5f3cb3cd-2f9d-4d4b-ac76-130c53265f78",
   "metadata": {},
   "source": [
    "This dataset contains 11 features that can be used to predict a possible heart disease."
   ]
  },
  {
   "cell_type": "code",
   "execution_count": 5,
   "id": "41ca0631-d4b0-4af4-9e28-4b1d9464cfcc",
   "metadata": {},
   "outputs": [
    {
     "data": {
      "text/plain": [
       "(28, 77)"
      ]
     },
     "execution_count": 5,
     "metadata": {},
     "output_type": "execute_result"
    }
   ],
   "source": [
    "dataset.Age.min(), dataset.Age.max()"
   ]
  },
  {
   "cell_type": "code",
   "execution_count": 6,
   "id": "f8dea6f6-df96-4f10-bf55-716e4fed90b4",
   "metadata": {},
   "outputs": [
    {
     "data": {
      "text/plain": [
       "M    725\n",
       "F    193\n",
       "Name: Sex, dtype: int64"
      ]
     },
     "execution_count": 6,
     "metadata": {},
     "output_type": "execute_result"
    }
   ],
   "source": [
    "dataset.Sex.value_counts()"
   ]
  },
  {
   "cell_type": "code",
   "execution_count": 7,
   "id": "1fb57823-398e-4689-9925-36291aa6835d",
   "metadata": {},
   "outputs": [],
   "source": [
    "dataset['is_ExerciseAngina'] = False\n",
    "dataset['is_FastingBS'] = False\n",
    "dataset.loc[dataset.ExerciseAngina == 'Y', 'is_ExerciseAngina'] = True\n",
    "dataset.loc[dataset.ExerciseAngina == 1, 'is_FastingBS'] = True\n",
    "dataset.drop(['ExerciseAngina', 'FastingBS'], axis=1, inplace=True)"
   ]
  },
  {
   "cell_type": "code",
   "execution_count": 8,
   "id": "874ee949-6539-4867-9596-61ced8809977",
   "metadata": {},
   "outputs": [
    {
     "data": {
      "text/plain": [
       "1    508\n",
       "0    410\n",
       "Name: HeartDisease, dtype: int64"
      ]
     },
     "execution_count": 8,
     "metadata": {},
     "output_type": "execute_result"
    }
   ],
   "source": [
    "dataset.HeartDisease.value_counts()"
   ]
  },
  {
   "cell_type": "code",
   "execution_count": 9,
   "id": "ebb2bf55-655e-4f02-9f47-578d7d5a4df8",
   "metadata": {},
   "outputs": [],
   "source": [
    "from sklearn.model_selection import train_test_split\n",
    "train, test = train_test_split(dataset, test_size=0.15, shuffle=True, random_state=37)"
   ]
  },
  {
   "cell_type": "code",
   "execution_count": 10,
   "id": "f3df5d6e-f77c-4cc2-a1a8-3cb566b9fc72",
   "metadata": {},
   "outputs": [
    {
     "data": {
      "text/plain": [
       "((780, 12), (138, 12))"
      ]
     },
     "execution_count": 10,
     "metadata": {},
     "output_type": "execute_result"
    }
   ],
   "source": [
    "train.shape, test.shape"
   ]
  },
  {
   "cell_type": "code",
   "execution_count": 11,
   "id": "98b33675-f940-46ad-a557-c5ca1ccb0145",
   "metadata": {},
   "outputs": [
    {
     "data": {
      "text/plain": [
       "0    72\n",
       "1    66\n",
       "Name: HeartDisease, dtype: int64"
      ]
     },
     "execution_count": 11,
     "metadata": {},
     "output_type": "execute_result"
    }
   ],
   "source": [
    "test.HeartDisease.value_counts()"
   ]
  },
  {
   "cell_type": "markdown",
   "id": "72a74eee-7c24-4351-a536-b60a86a27627",
   "metadata": {},
   "source": [
    "# Setting up the environment in PyCaret"
   ]
  },
  {
   "cell_type": "code",
   "execution_count": 12,
   "id": "5ed471bf-4c9e-4bfb-991f-9740c022f3f7",
   "metadata": {},
   "outputs": [],
   "source": [
    "from pycaret.classification import *"
   ]
  },
  {
   "cell_type": "code",
   "execution_count": 13,
   "id": "81207975-55b4-48b3-a4af-79e7244fb6a3",
   "metadata": {},
   "outputs": [
    {
     "data": {
      "text/plain": [
       "(918, 12)"
      ]
     },
     "execution_count": 13,
     "metadata": {},
     "output_type": "execute_result"
    }
   ],
   "source": [
    "dataset.shape"
   ]
  },
  {
   "cell_type": "code",
   "execution_count": 14,
   "id": "fb55cf23-a137-4ebc-9fe2-e9904f5d482b",
   "metadata": {},
   "outputs": [
    {
     "data": {
      "text/html": [
       "<style type=\"text/css\">\n",
       "#T_8645b_row29_col1 {\n",
       "  background-color: lightgreen;\n",
       "}\n",
       "</style>\n",
       "<table id=\"T_8645b_\">\n",
       "  <thead>\n",
       "    <tr>\n",
       "      <th class=\"blank level0\" >&nbsp;</th>\n",
       "      <th class=\"col_heading level0 col0\" >Description</th>\n",
       "      <th class=\"col_heading level0 col1\" >Value</th>\n",
       "    </tr>\n",
       "  </thead>\n",
       "  <tbody>\n",
       "    <tr>\n",
       "      <th id=\"T_8645b_level0_row0\" class=\"row_heading level0 row0\" >0</th>\n",
       "      <td id=\"T_8645b_row0_col0\" class=\"data row0 col0\" >session_id</td>\n",
       "      <td id=\"T_8645b_row0_col1\" class=\"data row0 col1\" >5290</td>\n",
       "    </tr>\n",
       "    <tr>\n",
       "      <th id=\"T_8645b_level0_row1\" class=\"row_heading level0 row1\" >1</th>\n",
       "      <td id=\"T_8645b_row1_col0\" class=\"data row1 col0\" >Target</td>\n",
       "      <td id=\"T_8645b_row1_col1\" class=\"data row1 col1\" >HeartDisease</td>\n",
       "    </tr>\n",
       "    <tr>\n",
       "      <th id=\"T_8645b_level0_row2\" class=\"row_heading level0 row2\" >2</th>\n",
       "      <td id=\"T_8645b_row2_col0\" class=\"data row2 col0\" >Target Type</td>\n",
       "      <td id=\"T_8645b_row2_col1\" class=\"data row2 col1\" >Binary</td>\n",
       "    </tr>\n",
       "    <tr>\n",
       "      <th id=\"T_8645b_level0_row3\" class=\"row_heading level0 row3\" >3</th>\n",
       "      <td id=\"T_8645b_row3_col0\" class=\"data row3 col0\" >Label Encoded</td>\n",
       "      <td id=\"T_8645b_row3_col1\" class=\"data row3 col1\" >0: 0, 1: 1</td>\n",
       "    </tr>\n",
       "    <tr>\n",
       "      <th id=\"T_8645b_level0_row4\" class=\"row_heading level0 row4\" >4</th>\n",
       "      <td id=\"T_8645b_row4_col0\" class=\"data row4 col0\" >Original Data</td>\n",
       "      <td id=\"T_8645b_row4_col1\" class=\"data row4 col1\" >(780, 12)</td>\n",
       "    </tr>\n",
       "    <tr>\n",
       "      <th id=\"T_8645b_level0_row5\" class=\"row_heading level0 row5\" >5</th>\n",
       "      <td id=\"T_8645b_row5_col0\" class=\"data row5 col0\" >Missing Values</td>\n",
       "      <td id=\"T_8645b_row5_col1\" class=\"data row5 col1\" >False</td>\n",
       "    </tr>\n",
       "    <tr>\n",
       "      <th id=\"T_8645b_level0_row6\" class=\"row_heading level0 row6\" >6</th>\n",
       "      <td id=\"T_8645b_row6_col0\" class=\"data row6 col0\" >Numeric Features</td>\n",
       "      <td id=\"T_8645b_row6_col1\" class=\"data row6 col1\" >5</td>\n",
       "    </tr>\n",
       "    <tr>\n",
       "      <th id=\"T_8645b_level0_row7\" class=\"row_heading level0 row7\" >7</th>\n",
       "      <td id=\"T_8645b_row7_col0\" class=\"data row7 col0\" >Categorical Features</td>\n",
       "      <td id=\"T_8645b_row7_col1\" class=\"data row7 col1\" >6</td>\n",
       "    </tr>\n",
       "    <tr>\n",
       "      <th id=\"T_8645b_level0_row8\" class=\"row_heading level0 row8\" >8</th>\n",
       "      <td id=\"T_8645b_row8_col0\" class=\"data row8 col0\" >Ordinal Features</td>\n",
       "      <td id=\"T_8645b_row8_col1\" class=\"data row8 col1\" >False</td>\n",
       "    </tr>\n",
       "    <tr>\n",
       "      <th id=\"T_8645b_level0_row9\" class=\"row_heading level0 row9\" >9</th>\n",
       "      <td id=\"T_8645b_row9_col0\" class=\"data row9 col0\" >High Cardinality Features</td>\n",
       "      <td id=\"T_8645b_row9_col1\" class=\"data row9 col1\" >False</td>\n",
       "    </tr>\n",
       "    <tr>\n",
       "      <th id=\"T_8645b_level0_row10\" class=\"row_heading level0 row10\" >10</th>\n",
       "      <td id=\"T_8645b_row10_col0\" class=\"data row10 col0\" >High Cardinality Method</td>\n",
       "      <td id=\"T_8645b_row10_col1\" class=\"data row10 col1\" >None</td>\n",
       "    </tr>\n",
       "    <tr>\n",
       "      <th id=\"T_8645b_level0_row11\" class=\"row_heading level0 row11\" >11</th>\n",
       "      <td id=\"T_8645b_row11_col0\" class=\"data row11 col0\" >Transformed Train Set</td>\n",
       "      <td id=\"T_8645b_row11_col1\" class=\"data row11 col1\" >(780, 18)</td>\n",
       "    </tr>\n",
       "    <tr>\n",
       "      <th id=\"T_8645b_level0_row12\" class=\"row_heading level0 row12\" >12</th>\n",
       "      <td id=\"T_8645b_row12_col0\" class=\"data row12 col0\" >Transformed Test Set</td>\n",
       "      <td id=\"T_8645b_row12_col1\" class=\"data row12 col1\" >(138, 18)</td>\n",
       "    </tr>\n",
       "    <tr>\n",
       "      <th id=\"T_8645b_level0_row13\" class=\"row_heading level0 row13\" >13</th>\n",
       "      <td id=\"T_8645b_row13_col0\" class=\"data row13 col0\" >Shuffle Train-Test</td>\n",
       "      <td id=\"T_8645b_row13_col1\" class=\"data row13 col1\" >True</td>\n",
       "    </tr>\n",
       "    <tr>\n",
       "      <th id=\"T_8645b_level0_row14\" class=\"row_heading level0 row14\" >14</th>\n",
       "      <td id=\"T_8645b_row14_col0\" class=\"data row14 col0\" >Stratify Train-Test</td>\n",
       "      <td id=\"T_8645b_row14_col1\" class=\"data row14 col1\" >False</td>\n",
       "    </tr>\n",
       "    <tr>\n",
       "      <th id=\"T_8645b_level0_row15\" class=\"row_heading level0 row15\" >15</th>\n",
       "      <td id=\"T_8645b_row15_col0\" class=\"data row15 col0\" >Fold Generator</td>\n",
       "      <td id=\"T_8645b_row15_col1\" class=\"data row15 col1\" >StratifiedKFold</td>\n",
       "    </tr>\n",
       "    <tr>\n",
       "      <th id=\"T_8645b_level0_row16\" class=\"row_heading level0 row16\" >16</th>\n",
       "      <td id=\"T_8645b_row16_col0\" class=\"data row16 col0\" >Fold Number</td>\n",
       "      <td id=\"T_8645b_row16_col1\" class=\"data row16 col1\" >10</td>\n",
       "    </tr>\n",
       "    <tr>\n",
       "      <th id=\"T_8645b_level0_row17\" class=\"row_heading level0 row17\" >17</th>\n",
       "      <td id=\"T_8645b_row17_col0\" class=\"data row17 col0\" >CPU Jobs</td>\n",
       "      <td id=\"T_8645b_row17_col1\" class=\"data row17 col1\" >-1</td>\n",
       "    </tr>\n",
       "    <tr>\n",
       "      <th id=\"T_8645b_level0_row18\" class=\"row_heading level0 row18\" >18</th>\n",
       "      <td id=\"T_8645b_row18_col0\" class=\"data row18 col0\" >Use GPU</td>\n",
       "      <td id=\"T_8645b_row18_col1\" class=\"data row18 col1\" >False</td>\n",
       "    </tr>\n",
       "    <tr>\n",
       "      <th id=\"T_8645b_level0_row19\" class=\"row_heading level0 row19\" >19</th>\n",
       "      <td id=\"T_8645b_row19_col0\" class=\"data row19 col0\" >Log Experiment</td>\n",
       "      <td id=\"T_8645b_row19_col1\" class=\"data row19 col1\" >False</td>\n",
       "    </tr>\n",
       "    <tr>\n",
       "      <th id=\"T_8645b_level0_row20\" class=\"row_heading level0 row20\" >20</th>\n",
       "      <td id=\"T_8645b_row20_col0\" class=\"data row20 col0\" >Experiment Name</td>\n",
       "      <td id=\"T_8645b_row20_col1\" class=\"data row20 col1\" >clf-default-name</td>\n",
       "    </tr>\n",
       "    <tr>\n",
       "      <th id=\"T_8645b_level0_row21\" class=\"row_heading level0 row21\" >21</th>\n",
       "      <td id=\"T_8645b_row21_col0\" class=\"data row21 col0\" >USI</td>\n",
       "      <td id=\"T_8645b_row21_col1\" class=\"data row21 col1\" >b8ef</td>\n",
       "    </tr>\n",
       "    <tr>\n",
       "      <th id=\"T_8645b_level0_row22\" class=\"row_heading level0 row22\" >22</th>\n",
       "      <td id=\"T_8645b_row22_col0\" class=\"data row22 col0\" >Imputation Type</td>\n",
       "      <td id=\"T_8645b_row22_col1\" class=\"data row22 col1\" >simple</td>\n",
       "    </tr>\n",
       "    <tr>\n",
       "      <th id=\"T_8645b_level0_row23\" class=\"row_heading level0 row23\" >23</th>\n",
       "      <td id=\"T_8645b_row23_col0\" class=\"data row23 col0\" >Iterative Imputation Iteration</td>\n",
       "      <td id=\"T_8645b_row23_col1\" class=\"data row23 col1\" >None</td>\n",
       "    </tr>\n",
       "    <tr>\n",
       "      <th id=\"T_8645b_level0_row24\" class=\"row_heading level0 row24\" >24</th>\n",
       "      <td id=\"T_8645b_row24_col0\" class=\"data row24 col0\" >Numeric Imputer</td>\n",
       "      <td id=\"T_8645b_row24_col1\" class=\"data row24 col1\" >mean</td>\n",
       "    </tr>\n",
       "    <tr>\n",
       "      <th id=\"T_8645b_level0_row25\" class=\"row_heading level0 row25\" >25</th>\n",
       "      <td id=\"T_8645b_row25_col0\" class=\"data row25 col0\" >Iterative Imputation Numeric Model</td>\n",
       "      <td id=\"T_8645b_row25_col1\" class=\"data row25 col1\" >None</td>\n",
       "    </tr>\n",
       "    <tr>\n",
       "      <th id=\"T_8645b_level0_row26\" class=\"row_heading level0 row26\" >26</th>\n",
       "      <td id=\"T_8645b_row26_col0\" class=\"data row26 col0\" >Categorical Imputer</td>\n",
       "      <td id=\"T_8645b_row26_col1\" class=\"data row26 col1\" >constant</td>\n",
       "    </tr>\n",
       "    <tr>\n",
       "      <th id=\"T_8645b_level0_row27\" class=\"row_heading level0 row27\" >27</th>\n",
       "      <td id=\"T_8645b_row27_col0\" class=\"data row27 col0\" >Iterative Imputation Categorical Model</td>\n",
       "      <td id=\"T_8645b_row27_col1\" class=\"data row27 col1\" >None</td>\n",
       "    </tr>\n",
       "    <tr>\n",
       "      <th id=\"T_8645b_level0_row28\" class=\"row_heading level0 row28\" >28</th>\n",
       "      <td id=\"T_8645b_row28_col0\" class=\"data row28 col0\" >Unknown Categoricals Handling</td>\n",
       "      <td id=\"T_8645b_row28_col1\" class=\"data row28 col1\" >least_frequent</td>\n",
       "    </tr>\n",
       "    <tr>\n",
       "      <th id=\"T_8645b_level0_row29\" class=\"row_heading level0 row29\" >29</th>\n",
       "      <td id=\"T_8645b_row29_col0\" class=\"data row29 col0\" >Normalize</td>\n",
       "      <td id=\"T_8645b_row29_col1\" class=\"data row29 col1\" >True</td>\n",
       "    </tr>\n",
       "    <tr>\n",
       "      <th id=\"T_8645b_level0_row30\" class=\"row_heading level0 row30\" >30</th>\n",
       "      <td id=\"T_8645b_row30_col0\" class=\"data row30 col0\" >Normalize Method</td>\n",
       "      <td id=\"T_8645b_row30_col1\" class=\"data row30 col1\" >zscore</td>\n",
       "    </tr>\n",
       "    <tr>\n",
       "      <th id=\"T_8645b_level0_row31\" class=\"row_heading level0 row31\" >31</th>\n",
       "      <td id=\"T_8645b_row31_col0\" class=\"data row31 col0\" >Transformation</td>\n",
       "      <td id=\"T_8645b_row31_col1\" class=\"data row31 col1\" >False</td>\n",
       "    </tr>\n",
       "    <tr>\n",
       "      <th id=\"T_8645b_level0_row32\" class=\"row_heading level0 row32\" >32</th>\n",
       "      <td id=\"T_8645b_row32_col0\" class=\"data row32 col0\" >Transformation Method</td>\n",
       "      <td id=\"T_8645b_row32_col1\" class=\"data row32 col1\" >None</td>\n",
       "    </tr>\n",
       "    <tr>\n",
       "      <th id=\"T_8645b_level0_row33\" class=\"row_heading level0 row33\" >33</th>\n",
       "      <td id=\"T_8645b_row33_col0\" class=\"data row33 col0\" >PCA</td>\n",
       "      <td id=\"T_8645b_row33_col1\" class=\"data row33 col1\" >False</td>\n",
       "    </tr>\n",
       "    <tr>\n",
       "      <th id=\"T_8645b_level0_row34\" class=\"row_heading level0 row34\" >34</th>\n",
       "      <td id=\"T_8645b_row34_col0\" class=\"data row34 col0\" >PCA Method</td>\n",
       "      <td id=\"T_8645b_row34_col1\" class=\"data row34 col1\" >None</td>\n",
       "    </tr>\n",
       "    <tr>\n",
       "      <th id=\"T_8645b_level0_row35\" class=\"row_heading level0 row35\" >35</th>\n",
       "      <td id=\"T_8645b_row35_col0\" class=\"data row35 col0\" >PCA Components</td>\n",
       "      <td id=\"T_8645b_row35_col1\" class=\"data row35 col1\" >None</td>\n",
       "    </tr>\n",
       "    <tr>\n",
       "      <th id=\"T_8645b_level0_row36\" class=\"row_heading level0 row36\" >36</th>\n",
       "      <td id=\"T_8645b_row36_col0\" class=\"data row36 col0\" >Ignore Low Variance</td>\n",
       "      <td id=\"T_8645b_row36_col1\" class=\"data row36 col1\" >False</td>\n",
       "    </tr>\n",
       "    <tr>\n",
       "      <th id=\"T_8645b_level0_row37\" class=\"row_heading level0 row37\" >37</th>\n",
       "      <td id=\"T_8645b_row37_col0\" class=\"data row37 col0\" >Combine Rare Levels</td>\n",
       "      <td id=\"T_8645b_row37_col1\" class=\"data row37 col1\" >False</td>\n",
       "    </tr>\n",
       "    <tr>\n",
       "      <th id=\"T_8645b_level0_row38\" class=\"row_heading level0 row38\" >38</th>\n",
       "      <td id=\"T_8645b_row38_col0\" class=\"data row38 col0\" >Rare Level Threshold</td>\n",
       "      <td id=\"T_8645b_row38_col1\" class=\"data row38 col1\" >None</td>\n",
       "    </tr>\n",
       "    <tr>\n",
       "      <th id=\"T_8645b_level0_row39\" class=\"row_heading level0 row39\" >39</th>\n",
       "      <td id=\"T_8645b_row39_col0\" class=\"data row39 col0\" >Numeric Binning</td>\n",
       "      <td id=\"T_8645b_row39_col1\" class=\"data row39 col1\" >False</td>\n",
       "    </tr>\n",
       "    <tr>\n",
       "      <th id=\"T_8645b_level0_row40\" class=\"row_heading level0 row40\" >40</th>\n",
       "      <td id=\"T_8645b_row40_col0\" class=\"data row40 col0\" >Remove Outliers</td>\n",
       "      <td id=\"T_8645b_row40_col1\" class=\"data row40 col1\" >False</td>\n",
       "    </tr>\n",
       "    <tr>\n",
       "      <th id=\"T_8645b_level0_row41\" class=\"row_heading level0 row41\" >41</th>\n",
       "      <td id=\"T_8645b_row41_col0\" class=\"data row41 col0\" >Outliers Threshold</td>\n",
       "      <td id=\"T_8645b_row41_col1\" class=\"data row41 col1\" >None</td>\n",
       "    </tr>\n",
       "    <tr>\n",
       "      <th id=\"T_8645b_level0_row42\" class=\"row_heading level0 row42\" >42</th>\n",
       "      <td id=\"T_8645b_row42_col0\" class=\"data row42 col0\" >Remove Multicollinearity</td>\n",
       "      <td id=\"T_8645b_row42_col1\" class=\"data row42 col1\" >False</td>\n",
       "    </tr>\n",
       "    <tr>\n",
       "      <th id=\"T_8645b_level0_row43\" class=\"row_heading level0 row43\" >43</th>\n",
       "      <td id=\"T_8645b_row43_col0\" class=\"data row43 col0\" >Multicollinearity Threshold</td>\n",
       "      <td id=\"T_8645b_row43_col1\" class=\"data row43 col1\" >None</td>\n",
       "    </tr>\n",
       "    <tr>\n",
       "      <th id=\"T_8645b_level0_row44\" class=\"row_heading level0 row44\" >44</th>\n",
       "      <td id=\"T_8645b_row44_col0\" class=\"data row44 col0\" >Clustering</td>\n",
       "      <td id=\"T_8645b_row44_col1\" class=\"data row44 col1\" >False</td>\n",
       "    </tr>\n",
       "    <tr>\n",
       "      <th id=\"T_8645b_level0_row45\" class=\"row_heading level0 row45\" >45</th>\n",
       "      <td id=\"T_8645b_row45_col0\" class=\"data row45 col0\" >Clustering Iteration</td>\n",
       "      <td id=\"T_8645b_row45_col1\" class=\"data row45 col1\" >None</td>\n",
       "    </tr>\n",
       "    <tr>\n",
       "      <th id=\"T_8645b_level0_row46\" class=\"row_heading level0 row46\" >46</th>\n",
       "      <td id=\"T_8645b_row46_col0\" class=\"data row46 col0\" >Polynomial Features</td>\n",
       "      <td id=\"T_8645b_row46_col1\" class=\"data row46 col1\" >False</td>\n",
       "    </tr>\n",
       "    <tr>\n",
       "      <th id=\"T_8645b_level0_row47\" class=\"row_heading level0 row47\" >47</th>\n",
       "      <td id=\"T_8645b_row47_col0\" class=\"data row47 col0\" >Polynomial Degree</td>\n",
       "      <td id=\"T_8645b_row47_col1\" class=\"data row47 col1\" >None</td>\n",
       "    </tr>\n",
       "    <tr>\n",
       "      <th id=\"T_8645b_level0_row48\" class=\"row_heading level0 row48\" >48</th>\n",
       "      <td id=\"T_8645b_row48_col0\" class=\"data row48 col0\" >Trignometry Features</td>\n",
       "      <td id=\"T_8645b_row48_col1\" class=\"data row48 col1\" >False</td>\n",
       "    </tr>\n",
       "    <tr>\n",
       "      <th id=\"T_8645b_level0_row49\" class=\"row_heading level0 row49\" >49</th>\n",
       "      <td id=\"T_8645b_row49_col0\" class=\"data row49 col0\" >Polynomial Threshold</td>\n",
       "      <td id=\"T_8645b_row49_col1\" class=\"data row49 col1\" >None</td>\n",
       "    </tr>\n",
       "    <tr>\n",
       "      <th id=\"T_8645b_level0_row50\" class=\"row_heading level0 row50\" >50</th>\n",
       "      <td id=\"T_8645b_row50_col0\" class=\"data row50 col0\" >Group Features</td>\n",
       "      <td id=\"T_8645b_row50_col1\" class=\"data row50 col1\" >False</td>\n",
       "    </tr>\n",
       "    <tr>\n",
       "      <th id=\"T_8645b_level0_row51\" class=\"row_heading level0 row51\" >51</th>\n",
       "      <td id=\"T_8645b_row51_col0\" class=\"data row51 col0\" >Feature Selection</td>\n",
       "      <td id=\"T_8645b_row51_col1\" class=\"data row51 col1\" >False</td>\n",
       "    </tr>\n",
       "    <tr>\n",
       "      <th id=\"T_8645b_level0_row52\" class=\"row_heading level0 row52\" >52</th>\n",
       "      <td id=\"T_8645b_row52_col0\" class=\"data row52 col0\" >Features Selection Threshold</td>\n",
       "      <td id=\"T_8645b_row52_col1\" class=\"data row52 col1\" >None</td>\n",
       "    </tr>\n",
       "    <tr>\n",
       "      <th id=\"T_8645b_level0_row53\" class=\"row_heading level0 row53\" >53</th>\n",
       "      <td id=\"T_8645b_row53_col0\" class=\"data row53 col0\" >Feature Interaction</td>\n",
       "      <td id=\"T_8645b_row53_col1\" class=\"data row53 col1\" >False</td>\n",
       "    </tr>\n",
       "    <tr>\n",
       "      <th id=\"T_8645b_level0_row54\" class=\"row_heading level0 row54\" >54</th>\n",
       "      <td id=\"T_8645b_row54_col0\" class=\"data row54 col0\" >Feature Ratio</td>\n",
       "      <td id=\"T_8645b_row54_col1\" class=\"data row54 col1\" >False</td>\n",
       "    </tr>\n",
       "    <tr>\n",
       "      <th id=\"T_8645b_level0_row55\" class=\"row_heading level0 row55\" >55</th>\n",
       "      <td id=\"T_8645b_row55_col0\" class=\"data row55 col0\" >Interaction Threshold</td>\n",
       "      <td id=\"T_8645b_row55_col1\" class=\"data row55 col1\" >None</td>\n",
       "    </tr>\n",
       "    <tr>\n",
       "      <th id=\"T_8645b_level0_row56\" class=\"row_heading level0 row56\" >56</th>\n",
       "      <td id=\"T_8645b_row56_col0\" class=\"data row56 col0\" >Fix Imbalance</td>\n",
       "      <td id=\"T_8645b_row56_col1\" class=\"data row56 col1\" >False</td>\n",
       "    </tr>\n",
       "    <tr>\n",
       "      <th id=\"T_8645b_level0_row57\" class=\"row_heading level0 row57\" >57</th>\n",
       "      <td id=\"T_8645b_row57_col0\" class=\"data row57 col0\" >Fix Imbalance Method</td>\n",
       "      <td id=\"T_8645b_row57_col1\" class=\"data row57 col1\" >SMOTE</td>\n",
       "    </tr>\n",
       "  </tbody>\n",
       "</table>\n"
      ],
      "text/plain": [
       "<pandas.io.formats.style.Styler at 0x7f0530537550>"
      ]
     },
     "metadata": {},
     "output_type": "display_data"
    }
   ],
   "source": [
    "# initialize setup\n",
    "data = setup(data=train, test_data=test, target ='HeartDisease', train_size=0.99, fold_shuffle=True, fold = 10, normalize=True)"
   ]
  },
  {
   "cell_type": "markdown",
   "id": "28eb14d4-e589-4051-aedb-956cf518a199",
   "metadata": {},
   "source": [
    "# Select models"
   ]
  },
  {
   "cell_type": "code",
   "execution_count": 15,
   "id": "bc884c96-3583-4208-b23e-b65f00d07a2a",
   "metadata": {},
   "outputs": [
    {
     "data": {
      "text/html": [
       "<style type=\"text/css\">\n",
       "#T_76240_ th {\n",
       "  text-align: left;\n",
       "}\n",
       "#T_76240_row0_col0, #T_76240_row0_col3, #T_76240_row1_col0, #T_76240_row1_col1, #T_76240_row1_col2, #T_76240_row1_col4, #T_76240_row1_col5, #T_76240_row1_col6, #T_76240_row1_col7, #T_76240_row2_col0, #T_76240_row2_col1, #T_76240_row2_col2, #T_76240_row2_col3, #T_76240_row2_col4, #T_76240_row2_col5, #T_76240_row2_col6, #T_76240_row2_col7, #T_76240_row3_col0, #T_76240_row3_col1, #T_76240_row3_col2, #T_76240_row3_col3, #T_76240_row3_col4, #T_76240_row3_col5, #T_76240_row3_col6, #T_76240_row3_col7, #T_76240_row4_col0, #T_76240_row4_col1, #T_76240_row4_col2, #T_76240_row4_col3, #T_76240_row4_col4, #T_76240_row4_col5, #T_76240_row4_col6, #T_76240_row4_col7, #T_76240_row5_col0, #T_76240_row5_col1, #T_76240_row5_col2, #T_76240_row5_col3, #T_76240_row5_col4, #T_76240_row5_col5, #T_76240_row5_col6, #T_76240_row5_col7, #T_76240_row6_col0, #T_76240_row6_col1, #T_76240_row6_col2, #T_76240_row6_col3, #T_76240_row6_col4, #T_76240_row6_col5, #T_76240_row6_col6, #T_76240_row6_col7, #T_76240_row7_col0, #T_76240_row7_col1, #T_76240_row7_col2, #T_76240_row7_col3, #T_76240_row7_col4, #T_76240_row7_col5, #T_76240_row7_col6, #T_76240_row7_col7, #T_76240_row8_col0, #T_76240_row8_col1, #T_76240_row8_col2, #T_76240_row8_col3, #T_76240_row8_col4, #T_76240_row8_col5, #T_76240_row8_col6, #T_76240_row8_col7, #T_76240_row9_col0, #T_76240_row9_col1, #T_76240_row9_col2, #T_76240_row9_col3, #T_76240_row9_col4, #T_76240_row9_col5, #T_76240_row9_col6, #T_76240_row9_col7, #T_76240_row10_col0, #T_76240_row10_col1, #T_76240_row10_col2, #T_76240_row10_col3, #T_76240_row10_col4, #T_76240_row10_col5, #T_76240_row10_col6, #T_76240_row10_col7, #T_76240_row11_col0, #T_76240_row11_col1, #T_76240_row11_col2, #T_76240_row11_col3, #T_76240_row11_col4, #T_76240_row11_col5, #T_76240_row11_col6, #T_76240_row11_col7, #T_76240_row12_col0, #T_76240_row12_col1, #T_76240_row12_col2, #T_76240_row12_col3, #T_76240_row12_col4, #T_76240_row12_col5, #T_76240_row12_col6, #T_76240_row12_col7, #T_76240_row13_col0, #T_76240_row13_col1, #T_76240_row13_col2, #T_76240_row13_col3, #T_76240_row13_col4, #T_76240_row13_col5, #T_76240_row13_col6, #T_76240_row13_col7, #T_76240_row14_col0, #T_76240_row14_col1, #T_76240_row14_col2, #T_76240_row14_col3, #T_76240_row14_col4, #T_76240_row14_col5, #T_76240_row14_col6, #T_76240_row14_col7 {\n",
       "  text-align: left;\n",
       "}\n",
       "#T_76240_row0_col1, #T_76240_row0_col2, #T_76240_row0_col4, #T_76240_row0_col5, #T_76240_row0_col6, #T_76240_row0_col7, #T_76240_row1_col3 {\n",
       "  text-align: left;\n",
       "  background-color: yellow;\n",
       "}\n",
       "#T_76240_row0_col8, #T_76240_row1_col8, #T_76240_row2_col8, #T_76240_row3_col8, #T_76240_row4_col8, #T_76240_row5_col8, #T_76240_row7_col8, #T_76240_row8_col8, #T_76240_row9_col8, #T_76240_row10_col8, #T_76240_row11_col8, #T_76240_row12_col8, #T_76240_row13_col8, #T_76240_row14_col8 {\n",
       "  text-align: left;\n",
       "  background-color: lightgrey;\n",
       "}\n",
       "#T_76240_row6_col8 {\n",
       "  text-align: left;\n",
       "  background-color: yellow;\n",
       "  background-color: lightgrey;\n",
       "}\n",
       "</style>\n",
       "<table id=\"T_76240_\">\n",
       "  <thead>\n",
       "    <tr>\n",
       "      <th class=\"blank level0\" >&nbsp;</th>\n",
       "      <th class=\"col_heading level0 col0\" >Model</th>\n",
       "      <th class=\"col_heading level0 col1\" >Accuracy</th>\n",
       "      <th class=\"col_heading level0 col2\" >AUC</th>\n",
       "      <th class=\"col_heading level0 col3\" >Recall</th>\n",
       "      <th class=\"col_heading level0 col4\" >Prec.</th>\n",
       "      <th class=\"col_heading level0 col5\" >F1</th>\n",
       "      <th class=\"col_heading level0 col6\" >Kappa</th>\n",
       "      <th class=\"col_heading level0 col7\" >MCC</th>\n",
       "      <th class=\"col_heading level0 col8\" >TT (Sec)</th>\n",
       "    </tr>\n",
       "  </thead>\n",
       "  <tbody>\n",
       "    <tr>\n",
       "      <th id=\"T_76240_level0_row0\" class=\"row_heading level0 row0\" >catboost</th>\n",
       "      <td id=\"T_76240_row0_col0\" class=\"data row0 col0\" >CatBoost Classifier</td>\n",
       "      <td id=\"T_76240_row0_col1\" class=\"data row0 col1\" >0.8744</td>\n",
       "      <td id=\"T_76240_row0_col2\" class=\"data row0 col2\" >0.9299</td>\n",
       "      <td id=\"T_76240_row0_col3\" class=\"data row0 col3\" >0.9117</td>\n",
       "      <td id=\"T_76240_row0_col4\" class=\"data row0 col4\" >0.8731</td>\n",
       "      <td id=\"T_76240_row0_col5\" class=\"data row0 col5\" >0.8914</td>\n",
       "      <td id=\"T_76240_row0_col6\" class=\"data row0 col6\" >0.7424</td>\n",
       "      <td id=\"T_76240_row0_col7\" class=\"data row0 col7\" >0.7448</td>\n",
       "      <td id=\"T_76240_row0_col8\" class=\"data row0 col8\" >1.4980</td>\n",
       "    </tr>\n",
       "    <tr>\n",
       "      <th id=\"T_76240_level0_row1\" class=\"row_heading level0 row1\" >knn</th>\n",
       "      <td id=\"T_76240_row1_col0\" class=\"data row1 col0\" >K Neighbors Classifier</td>\n",
       "      <td id=\"T_76240_row1_col1\" class=\"data row1 col1\" >0.8705</td>\n",
       "      <td id=\"T_76240_row1_col2\" class=\"data row1 col2\" >0.9055</td>\n",
       "      <td id=\"T_76240_row1_col3\" class=\"data row1 col3\" >0.9161</td>\n",
       "      <td id=\"T_76240_row1_col4\" class=\"data row1 col4\" >0.8643</td>\n",
       "      <td id=\"T_76240_row1_col5\" class=\"data row1 col5\" >0.8890</td>\n",
       "      <td id=\"T_76240_row1_col6\" class=\"data row1 col6\" >0.7337</td>\n",
       "      <td id=\"T_76240_row1_col7\" class=\"data row1 col7\" >0.7371</td>\n",
       "      <td id=\"T_76240_row1_col8\" class=\"data row1 col8\" >0.0910</td>\n",
       "    </tr>\n",
       "    <tr>\n",
       "      <th id=\"T_76240_level0_row2\" class=\"row_heading level0 row2\" >rf</th>\n",
       "      <td id=\"T_76240_row2_col0\" class=\"data row2 col0\" >Random Forest Classifier</td>\n",
       "      <td id=\"T_76240_row2_col1\" class=\"data row2 col1\" >0.8667</td>\n",
       "      <td id=\"T_76240_row2_col2\" class=\"data row2 col2\" >0.9242</td>\n",
       "      <td id=\"T_76240_row2_col3\" class=\"data row2 col3\" >0.9003</td>\n",
       "      <td id=\"T_76240_row2_col4\" class=\"data row2 col4\" >0.8711</td>\n",
       "      <td id=\"T_76240_row2_col5\" class=\"data row2 col5\" >0.8845</td>\n",
       "      <td id=\"T_76240_row2_col6\" class=\"data row2 col6\" >0.7267</td>\n",
       "      <td id=\"T_76240_row2_col7\" class=\"data row2 col7\" >0.7298</td>\n",
       "      <td id=\"T_76240_row2_col8\" class=\"data row2 col8\" >0.0420</td>\n",
       "    </tr>\n",
       "    <tr>\n",
       "      <th id=\"T_76240_level0_row3\" class=\"row_heading level0 row3\" >lr</th>\n",
       "      <td id=\"T_76240_row3_col0\" class=\"data row3 col0\" >Logistic Regression</td>\n",
       "      <td id=\"T_76240_row3_col1\" class=\"data row3 col1\" >0.8615</td>\n",
       "      <td id=\"T_76240_row3_col2\" class=\"data row3 col2\" >0.9214</td>\n",
       "      <td id=\"T_76240_row3_col3\" class=\"data row3 col3\" >0.8913</td>\n",
       "      <td id=\"T_76240_row3_col4\" class=\"data row3 col4\" >0.8695</td>\n",
       "      <td id=\"T_76240_row3_col5\" class=\"data row3 col5\" >0.8793</td>\n",
       "      <td id=\"T_76240_row3_col6\" class=\"data row3 col6\" >0.7168</td>\n",
       "      <td id=\"T_76240_row3_col7\" class=\"data row3 col7\" >0.7194</td>\n",
       "      <td id=\"T_76240_row3_col8\" class=\"data row3 col8\" >0.1850</td>\n",
       "    </tr>\n",
       "    <tr>\n",
       "      <th id=\"T_76240_level0_row4\" class=\"row_heading level0 row4\" >gbc</th>\n",
       "      <td id=\"T_76240_row4_col0\" class=\"data row4 col0\" >Gradient Boosting Classifier</td>\n",
       "      <td id=\"T_76240_row4_col1\" class=\"data row4 col1\" >0.8615</td>\n",
       "      <td id=\"T_76240_row4_col2\" class=\"data row4 col2\" >0.9250</td>\n",
       "      <td id=\"T_76240_row4_col3\" class=\"data row4 col3\" >0.8913</td>\n",
       "      <td id=\"T_76240_row4_col4\" class=\"data row4 col4\" >0.8703</td>\n",
       "      <td id=\"T_76240_row4_col5\" class=\"data row4 col5\" >0.8794</td>\n",
       "      <td id=\"T_76240_row4_col6\" class=\"data row4 col6\" >0.7165</td>\n",
       "      <td id=\"T_76240_row4_col7\" class=\"data row4 col7\" >0.7198</td>\n",
       "      <td id=\"T_76240_row4_col8\" class=\"data row4 col8\" >0.0180</td>\n",
       "    </tr>\n",
       "    <tr>\n",
       "      <th id=\"T_76240_level0_row5\" class=\"row_heading level0 row5\" >ridge</th>\n",
       "      <td id=\"T_76240_row5_col0\" class=\"data row5 col0\" >Ridge Classifier</td>\n",
       "      <td id=\"T_76240_row5_col1\" class=\"data row5 col1\" >0.8577</td>\n",
       "      <td id=\"T_76240_row5_col2\" class=\"data row5 col2\" >0.0000</td>\n",
       "      <td id=\"T_76240_row5_col3\" class=\"data row5 col3\" >0.8914</td>\n",
       "      <td id=\"T_76240_row5_col4\" class=\"data row5 col4\" >0.8637</td>\n",
       "      <td id=\"T_76240_row5_col5\" class=\"data row5 col5\" >0.8765</td>\n",
       "      <td id=\"T_76240_row5_col6\" class=\"data row5 col6\" >0.7086</td>\n",
       "      <td id=\"T_76240_row5_col7\" class=\"data row5 col7\" >0.7109</td>\n",
       "      <td id=\"T_76240_row5_col8\" class=\"data row5 col8\" >0.0060</td>\n",
       "    </tr>\n",
       "    <tr>\n",
       "      <th id=\"T_76240_level0_row6\" class=\"row_heading level0 row6\" >lda</th>\n",
       "      <td id=\"T_76240_row6_col0\" class=\"data row6 col0\" >Linear Discriminant Analysis</td>\n",
       "      <td id=\"T_76240_row6_col1\" class=\"data row6 col1\" >0.8564</td>\n",
       "      <td id=\"T_76240_row6_col2\" class=\"data row6 col2\" >0.9216</td>\n",
       "      <td id=\"T_76240_row6_col3\" class=\"data row6 col3\" >0.8891</td>\n",
       "      <td id=\"T_76240_row6_col4\" class=\"data row6 col4\" >0.8634</td>\n",
       "      <td id=\"T_76240_row6_col5\" class=\"data row6 col5\" >0.8752</td>\n",
       "      <td id=\"T_76240_row6_col6\" class=\"data row6 col6\" >0.7061</td>\n",
       "      <td id=\"T_76240_row6_col7\" class=\"data row6 col7\" >0.7084</td>\n",
       "      <td id=\"T_76240_row6_col8\" class=\"data row6 col8\" >0.0030</td>\n",
       "    </tr>\n",
       "    <tr>\n",
       "      <th id=\"T_76240_level0_row7\" class=\"row_heading level0 row7\" >lightgbm</th>\n",
       "      <td id=\"T_76240_row7_col0\" class=\"data row7 col0\" >Light Gradient Boosting Machine</td>\n",
       "      <td id=\"T_76240_row7_col1\" class=\"data row7 col1\" >0.8564</td>\n",
       "      <td id=\"T_76240_row7_col2\" class=\"data row7 col2\" >0.9245</td>\n",
       "      <td id=\"T_76240_row7_col3\" class=\"data row7 col3\" >0.8890</td>\n",
       "      <td id=\"T_76240_row7_col4\" class=\"data row7 col4\" >0.8629</td>\n",
       "      <td id=\"T_76240_row7_col5\" class=\"data row7 col5\" >0.8750</td>\n",
       "      <td id=\"T_76240_row7_col6\" class=\"data row7 col6\" >0.7061</td>\n",
       "      <td id=\"T_76240_row7_col7\" class=\"data row7 col7\" >0.7083</td>\n",
       "      <td id=\"T_76240_row7_col8\" class=\"data row7 col8\" >0.5190</td>\n",
       "    </tr>\n",
       "    <tr>\n",
       "      <th id=\"T_76240_level0_row8\" class=\"row_heading level0 row8\" >et</th>\n",
       "      <td id=\"T_76240_row8_col0\" class=\"data row8 col0\" >Extra Trees Classifier</td>\n",
       "      <td id=\"T_76240_row8_col1\" class=\"data row8 col1\" >0.8551</td>\n",
       "      <td id=\"T_76240_row8_col2\" class=\"data row8 col2\" >0.9159</td>\n",
       "      <td id=\"T_76240_row8_col3\" class=\"data row8 col3\" >0.8775</td>\n",
       "      <td id=\"T_76240_row8_col4\" class=\"data row8 col4\" >0.8712</td>\n",
       "      <td id=\"T_76240_row8_col5\" class=\"data row8 col5\" >0.8730</td>\n",
       "      <td id=\"T_76240_row8_col6\" class=\"data row8 col6\" >0.7041</td>\n",
       "      <td id=\"T_76240_row8_col7\" class=\"data row8 col7\" >0.7074</td>\n",
       "      <td id=\"T_76240_row8_col8\" class=\"data row8 col8\" >0.0370</td>\n",
       "    </tr>\n",
       "    <tr>\n",
       "      <th id=\"T_76240_level0_row9\" class=\"row_heading level0 row9\" >nb</th>\n",
       "      <td id=\"T_76240_row9_col0\" class=\"data row9 col0\" >Naive Bayes</td>\n",
       "      <td id=\"T_76240_row9_col1\" class=\"data row9 col1\" >0.8449</td>\n",
       "      <td id=\"T_76240_row9_col2\" class=\"data row9 col2\" >0.9134</td>\n",
       "      <td id=\"T_76240_row9_col3\" class=\"data row9 col3\" >0.8620</td>\n",
       "      <td id=\"T_76240_row9_col4\" class=\"data row9 col4\" >0.8652</td>\n",
       "      <td id=\"T_76240_row9_col5\" class=\"data row9 col5\" >0.8628</td>\n",
       "      <td id=\"T_76240_row9_col6\" class=\"data row9 col6\" >0.6843</td>\n",
       "      <td id=\"T_76240_row9_col7\" class=\"data row9 col7\" >0.6859</td>\n",
       "      <td id=\"T_76240_row9_col8\" class=\"data row9 col8\" >0.0080</td>\n",
       "    </tr>\n",
       "    <tr>\n",
       "      <th id=\"T_76240_level0_row10\" class=\"row_heading level0 row10\" >ada</th>\n",
       "      <td id=\"T_76240_row10_col0\" class=\"data row10 col0\" >Ada Boost Classifier</td>\n",
       "      <td id=\"T_76240_row10_col1\" class=\"data row10 col1\" >0.8385</td>\n",
       "      <td id=\"T_76240_row10_col2\" class=\"data row10 col2\" >0.9018</td>\n",
       "      <td id=\"T_76240_row10_col3\" class=\"data row10 col3\" >0.8594</td>\n",
       "      <td id=\"T_76240_row10_col4\" class=\"data row10 col4\" >0.8562</td>\n",
       "      <td id=\"T_76240_row10_col5\" class=\"data row10 col5\" >0.8567</td>\n",
       "      <td id=\"T_76240_row10_col6\" class=\"data row10 col6\" >0.6713</td>\n",
       "      <td id=\"T_76240_row10_col7\" class=\"data row10 col7\" >0.6738</td>\n",
       "      <td id=\"T_76240_row10_col8\" class=\"data row10 col8\" >0.0160</td>\n",
       "    </tr>\n",
       "    <tr>\n",
       "      <th id=\"T_76240_level0_row11\" class=\"row_heading level0 row11\" >xgboost</th>\n",
       "      <td id=\"T_76240_row11_col0\" class=\"data row11 col0\" >Extreme Gradient Boosting</td>\n",
       "      <td id=\"T_76240_row11_col1\" class=\"data row11 col1\" >0.8372</td>\n",
       "      <td id=\"T_76240_row11_col2\" class=\"data row11 col2\" >0.9145</td>\n",
       "      <td id=\"T_76240_row11_col3\" class=\"data row11 col3\" >0.8732</td>\n",
       "      <td id=\"T_76240_row11_col4\" class=\"data row11 col4\" >0.8454</td>\n",
       "      <td id=\"T_76240_row11_col5\" class=\"data row11 col5\" >0.8587</td>\n",
       "      <td id=\"T_76240_row11_col6\" class=\"data row11 col6\" >0.6665</td>\n",
       "      <td id=\"T_76240_row11_col7\" class=\"data row11 col7\" >0.6679</td>\n",
       "      <td id=\"T_76240_row11_col8\" class=\"data row11 col8\" >0.3740</td>\n",
       "    </tr>\n",
       "    <tr>\n",
       "      <th id=\"T_76240_level0_row12\" class=\"row_heading level0 row12\" >svm</th>\n",
       "      <td id=\"T_76240_row12_col0\" class=\"data row12 col0\" >SVM - Linear Kernel</td>\n",
       "      <td id=\"T_76240_row12_col1\" class=\"data row12 col1\" >0.8308</td>\n",
       "      <td id=\"T_76240_row12_col2\" class=\"data row12 col2\" >0.0000</td>\n",
       "      <td id=\"T_76240_row12_col3\" class=\"data row12 col3\" >0.8780</td>\n",
       "      <td id=\"T_76240_row12_col4\" class=\"data row12 col4\" >0.8373</td>\n",
       "      <td id=\"T_76240_row12_col5\" class=\"data row12 col5\" >0.8544</td>\n",
       "      <td id=\"T_76240_row12_col6\" class=\"data row12 col6\" >0.6523</td>\n",
       "      <td id=\"T_76240_row12_col7\" class=\"data row12 col7\" >0.6608</td>\n",
       "      <td id=\"T_76240_row12_col8\" class=\"data row12 col8\" >0.0040</td>\n",
       "    </tr>\n",
       "    <tr>\n",
       "      <th id=\"T_76240_level0_row13\" class=\"row_heading level0 row13\" >dt</th>\n",
       "      <td id=\"T_76240_row13_col0\" class=\"data row13 col0\" >Decision Tree Classifier</td>\n",
       "      <td id=\"T_76240_row13_col1\" class=\"data row13 col1\" >0.8000</td>\n",
       "      <td id=\"T_76240_row13_col2\" class=\"data row13 col2\" >0.7959</td>\n",
       "      <td id=\"T_76240_row13_col3\" class=\"data row13 col3\" >0.8257</td>\n",
       "      <td id=\"T_76240_row13_col4\" class=\"data row13 col4\" >0.8226</td>\n",
       "      <td id=\"T_76240_row13_col5\" class=\"data row13 col5\" >0.8238</td>\n",
       "      <td id=\"T_76240_row13_col6\" class=\"data row13 col6\" >0.5923</td>\n",
       "      <td id=\"T_76240_row13_col7\" class=\"data row13 col7\" >0.5930</td>\n",
       "      <td id=\"T_76240_row13_col8\" class=\"data row13 col8\" >0.0040</td>\n",
       "    </tr>\n",
       "    <tr>\n",
       "      <th id=\"T_76240_level0_row14\" class=\"row_heading level0 row14\" >qda</th>\n",
       "      <td id=\"T_76240_row14_col0\" class=\"data row14 col0\" >Quadratic Discriminant Analysis</td>\n",
       "      <td id=\"T_76240_row14_col1\" class=\"data row14 col1\" >0.4333</td>\n",
       "      <td id=\"T_76240_row14_col2\" class=\"data row14 col2\" >0.0000</td>\n",
       "      <td id=\"T_76240_row14_col3\" class=\"data row14 col3\" >0.0000</td>\n",
       "      <td id=\"T_76240_row14_col4\" class=\"data row14 col4\" >0.0000</td>\n",
       "      <td id=\"T_76240_row14_col5\" class=\"data row14 col5\" >0.0000</td>\n",
       "      <td id=\"T_76240_row14_col6\" class=\"data row14 col6\" >0.0000</td>\n",
       "      <td id=\"T_76240_row14_col7\" class=\"data row14 col7\" >0.0000</td>\n",
       "      <td id=\"T_76240_row14_col8\" class=\"data row14 col8\" >0.0050</td>\n",
       "    </tr>\n",
       "  </tbody>\n",
       "</table>\n"
      ],
      "text/plain": [
       "<pandas.io.formats.style.Styler at 0x7f05354332e0>"
      ]
     },
     "metadata": {},
     "output_type": "display_data"
    }
   ],
   "source": [
    "best_models = compare_models(n_select=4)"
   ]
  },
  {
   "cell_type": "code",
   "execution_count": 16,
   "id": "458f9f70-88e3-4d60-bb1f-5ee38e92063e",
   "metadata": {},
   "outputs": [
    {
     "data": {
      "text/plain": [
       "[<catboost.core.CatBoostClassifier at 0x7f0530479ee0>,\n",
       " KNeighborsClassifier(algorithm='auto', leaf_size=30, metric='minkowski',\n",
       "                      metric_params=None, n_jobs=-1, n_neighbors=5, p=2,\n",
       "                      weights='uniform'),\n",
       " RandomForestClassifier(bootstrap=True, ccp_alpha=0.0, class_weight=None,\n",
       "                        criterion='gini', max_depth=None, max_features='auto',\n",
       "                        max_leaf_nodes=None, max_samples=None,\n",
       "                        min_impurity_decrease=0.0, min_impurity_split=None,\n",
       "                        min_samples_leaf=1, min_samples_split=2,\n",
       "                        min_weight_fraction_leaf=0.0, n_estimators=100,\n",
       "                        n_jobs=-1, oob_score=False, random_state=5290, verbose=0,\n",
       "                        warm_start=False),\n",
       " LogisticRegression(C=1.0, class_weight=None, dual=False, fit_intercept=True,\n",
       "                    intercept_scaling=1, l1_ratio=None, max_iter=1000,\n",
       "                    multi_class='auto', n_jobs=None, penalty='l2',\n",
       "                    random_state=5290, solver='lbfgs', tol=0.0001, verbose=0,\n",
       "                    warm_start=False)]"
      ]
     },
     "execution_count": 16,
     "metadata": {},
     "output_type": "execute_result"
    }
   ],
   "source": [
    "best_models"
   ]
  },
  {
   "cell_type": "markdown",
   "id": "7b1d0ab4-630d-48fe-988f-b8189932f62b",
   "metadata": {},
   "source": [
    "# Hyperparameter tuning"
   ]
  },
  {
   "cell_type": "code",
   "execution_count": 17,
   "id": "545321a0-6a75-46de-9448-e0df92a207e9",
   "metadata": {},
   "outputs": [],
   "source": [
    "#tuned_best_model = tune_model(best_models[0])"
   ]
  },
  {
   "cell_type": "code",
   "execution_count": 18,
   "id": "161f082e-2323-464c-a28a-21c491ae6ed1",
   "metadata": {},
   "outputs": [
    {
     "data": {
      "text/html": [
       "<style type=\"text/css\">\n",
       "#T_3c263_row10_col0, #T_3c263_row10_col1, #T_3c263_row10_col2, #T_3c263_row10_col3, #T_3c263_row10_col4, #T_3c263_row10_col5, #T_3c263_row10_col6 {\n",
       "  background: yellow;\n",
       "}\n",
       "</style>\n",
       "<table id=\"T_3c263_\">\n",
       "  <thead>\n",
       "    <tr>\n",
       "      <th class=\"blank level0\" >&nbsp;</th>\n",
       "      <th class=\"col_heading level0 col0\" >Accuracy</th>\n",
       "      <th class=\"col_heading level0 col1\" >AUC</th>\n",
       "      <th class=\"col_heading level0 col2\" >Recall</th>\n",
       "      <th class=\"col_heading level0 col3\" >Prec.</th>\n",
       "      <th class=\"col_heading level0 col4\" >F1</th>\n",
       "      <th class=\"col_heading level0 col5\" >Kappa</th>\n",
       "      <th class=\"col_heading level0 col6\" >MCC</th>\n",
       "    </tr>\n",
       "  </thead>\n",
       "  <tbody>\n",
       "    <tr>\n",
       "      <th id=\"T_3c263_level0_row0\" class=\"row_heading level0 row0\" >0</th>\n",
       "      <td id=\"T_3c263_row0_col0\" class=\"data row0 col0\" >0.8846</td>\n",
       "      <td id=\"T_3c263_row0_col1\" class=\"data row0 col1\" >0.9495</td>\n",
       "      <td id=\"T_3c263_row0_col2\" class=\"data row0 col2\" >1.0000</td>\n",
       "      <td id=\"T_3c263_row0_col3\" class=\"data row0 col3\" >0.8333</td>\n",
       "      <td id=\"T_3c263_row0_col4\" class=\"data row0 col4\" >0.9091</td>\n",
       "      <td id=\"T_3c263_row0_col5\" class=\"data row0 col5\" >0.7547</td>\n",
       "      <td id=\"T_3c263_row0_col6\" class=\"data row0 col6\" >0.7785</td>\n",
       "    </tr>\n",
       "    <tr>\n",
       "      <th id=\"T_3c263_level0_row1\" class=\"row_heading level0 row1\" >1</th>\n",
       "      <td id=\"T_3c263_row1_col0\" class=\"data row1 col0\" >0.8846</td>\n",
       "      <td id=\"T_3c263_row1_col1\" class=\"data row1 col1\" >0.8936</td>\n",
       "      <td id=\"T_3c263_row1_col2\" class=\"data row1 col2\" >0.9333</td>\n",
       "      <td id=\"T_3c263_row1_col3\" class=\"data row1 col3\" >0.8750</td>\n",
       "      <td id=\"T_3c263_row1_col4\" class=\"data row1 col4\" >0.9032</td>\n",
       "      <td id=\"T_3c263_row1_col5\" class=\"data row1 col5\" >0.7607</td>\n",
       "      <td id=\"T_3c263_row1_col6\" class=\"data row1 col6\" >0.7632</td>\n",
       "    </tr>\n",
       "    <tr>\n",
       "      <th id=\"T_3c263_level0_row2\" class=\"row_heading level0 row2\" >2</th>\n",
       "      <td id=\"T_3c263_row2_col0\" class=\"data row2 col0\" >0.8718</td>\n",
       "      <td id=\"T_3c263_row2_col1\" class=\"data row2 col1\" >0.9231</td>\n",
       "      <td id=\"T_3c263_row2_col2\" class=\"data row2 col2\" >0.8636</td>\n",
       "      <td id=\"T_3c263_row2_col3\" class=\"data row2 col3\" >0.9048</td>\n",
       "      <td id=\"T_3c263_row2_col4\" class=\"data row2 col4\" >0.8837</td>\n",
       "      <td id=\"T_3c263_row2_col5\" class=\"data row2 col5\" >0.7410</td>\n",
       "      <td id=\"T_3c263_row2_col6\" class=\"data row2 col6\" >0.7420</td>\n",
       "    </tr>\n",
       "    <tr>\n",
       "      <th id=\"T_3c263_level0_row3\" class=\"row_heading level0 row3\" >3</th>\n",
       "      <td id=\"T_3c263_row3_col0\" class=\"data row3 col0\" >0.8462</td>\n",
       "      <td id=\"T_3c263_row3_col1\" class=\"data row3 col1\" >0.8977</td>\n",
       "      <td id=\"T_3c263_row3_col2\" class=\"data row3 col2\" >0.8636</td>\n",
       "      <td id=\"T_3c263_row3_col3\" class=\"data row3 col3\" >0.8636</td>\n",
       "      <td id=\"T_3c263_row3_col4\" class=\"data row3 col4\" >0.8636</td>\n",
       "      <td id=\"T_3c263_row3_col5\" class=\"data row3 col5\" >0.6872</td>\n",
       "      <td id=\"T_3c263_row3_col6\" class=\"data row3 col6\" >0.6872</td>\n",
       "    </tr>\n",
       "    <tr>\n",
       "      <th id=\"T_3c263_level0_row4\" class=\"row_heading level0 row4\" >4</th>\n",
       "      <td id=\"T_3c263_row4_col0\" class=\"data row4 col0\" >0.8718</td>\n",
       "      <td id=\"T_3c263_row4_col1\" class=\"data row4 col1\" >0.9318</td>\n",
       "      <td id=\"T_3c263_row4_col2\" class=\"data row4 col2\" >0.9318</td>\n",
       "      <td id=\"T_3c263_row4_col3\" class=\"data row4 col3\" >0.8542</td>\n",
       "      <td id=\"T_3c263_row4_col4\" class=\"data row4 col4\" >0.8913</td>\n",
       "      <td id=\"T_3c263_row4_col5\" class=\"data row4 col5\" >0.7358</td>\n",
       "      <td id=\"T_3c263_row4_col6\" class=\"data row4 col6\" >0.7399</td>\n",
       "    </tr>\n",
       "    <tr>\n",
       "      <th id=\"T_3c263_level0_row5\" class=\"row_heading level0 row5\" >5</th>\n",
       "      <td id=\"T_3c263_row5_col0\" class=\"data row5 col0\" >0.8462</td>\n",
       "      <td id=\"T_3c263_row5_col1\" class=\"data row5 col1\" >0.9325</td>\n",
       "      <td id=\"T_3c263_row5_col2\" class=\"data row5 col2\" >0.8864</td>\n",
       "      <td id=\"T_3c263_row5_col3\" class=\"data row5 col3\" >0.8478</td>\n",
       "      <td id=\"T_3c263_row5_col4\" class=\"data row5 col4\" >0.8667</td>\n",
       "      <td id=\"T_3c263_row5_col5\" class=\"data row5 col5\" >0.6851</td>\n",
       "      <td id=\"T_3c263_row5_col6\" class=\"data row5 col6\" >0.6860</td>\n",
       "    </tr>\n",
       "    <tr>\n",
       "      <th id=\"T_3c263_level0_row6\" class=\"row_heading level0 row6\" >6</th>\n",
       "      <td id=\"T_3c263_row6_col0\" class=\"data row6 col0\" >0.8077</td>\n",
       "      <td id=\"T_3c263_row6_col1\" class=\"data row6 col1\" >0.8757</td>\n",
       "      <td id=\"T_3c263_row6_col2\" class=\"data row6 col2\" >0.8636</td>\n",
       "      <td id=\"T_3c263_row6_col3\" class=\"data row6 col3\" >0.8085</td>\n",
       "      <td id=\"T_3c263_row6_col4\" class=\"data row6 col4\" >0.8352</td>\n",
       "      <td id=\"T_3c263_row6_col5\" class=\"data row6 col5\" >0.6050</td>\n",
       "      <td id=\"T_3c263_row6_col6\" class=\"data row6 col6\" >0.6069</td>\n",
       "    </tr>\n",
       "    <tr>\n",
       "      <th id=\"T_3c263_level0_row7\" class=\"row_heading level0 row7\" >7</th>\n",
       "      <td id=\"T_3c263_row7_col0\" class=\"data row7 col0\" >0.9103</td>\n",
       "      <td id=\"T_3c263_row7_col1\" class=\"data row7 col1\" >0.9626</td>\n",
       "      <td id=\"T_3c263_row7_col2\" class=\"data row7 col2\" >0.9091</td>\n",
       "      <td id=\"T_3c263_row7_col3\" class=\"data row7 col3\" >0.9302</td>\n",
       "      <td id=\"T_3c263_row7_col4\" class=\"data row7 col4\" >0.9195</td>\n",
       "      <td id=\"T_3c263_row7_col5\" class=\"data row7 col5\" >0.8181</td>\n",
       "      <td id=\"T_3c263_row7_col6\" class=\"data row7 col6\" >0.8184</td>\n",
       "    </tr>\n",
       "    <tr>\n",
       "      <th id=\"T_3c263_level0_row8\" class=\"row_heading level0 row8\" >8</th>\n",
       "      <td id=\"T_3c263_row8_col0\" class=\"data row8 col0\" >0.8718</td>\n",
       "      <td id=\"T_3c263_row8_col1\" class=\"data row8 col1\" >0.9178</td>\n",
       "      <td id=\"T_3c263_row8_col2\" class=\"data row8 col2\" >0.9091</td>\n",
       "      <td id=\"T_3c263_row8_col3\" class=\"data row8 col3\" >0.8696</td>\n",
       "      <td id=\"T_3c263_row8_col4\" class=\"data row8 col4\" >0.8889</td>\n",
       "      <td id=\"T_3c263_row8_col5\" class=\"data row8 col5\" >0.7376</td>\n",
       "      <td id=\"T_3c263_row8_col6\" class=\"data row8 col6\" >0.7386</td>\n",
       "    </tr>\n",
       "    <tr>\n",
       "      <th id=\"T_3c263_level0_row9\" class=\"row_heading level0 row9\" >9</th>\n",
       "      <td id=\"T_3c263_row9_col0\" class=\"data row9 col0\" >0.9231</td>\n",
       "      <td id=\"T_3c263_row9_col1\" class=\"data row9 col1\" >0.9779</td>\n",
       "      <td id=\"T_3c263_row9_col2\" class=\"data row9 col2\" >0.9545</td>\n",
       "      <td id=\"T_3c263_row9_col3\" class=\"data row9 col3\" >0.9130</td>\n",
       "      <td id=\"T_3c263_row9_col4\" class=\"data row9 col4\" >0.9333</td>\n",
       "      <td id=\"T_3c263_row9_col5\" class=\"data row9 col5\" >0.8425</td>\n",
       "      <td id=\"T_3c263_row9_col6\" class=\"data row9 col6\" >0.8437</td>\n",
       "    </tr>\n",
       "    <tr>\n",
       "      <th id=\"T_3c263_level0_row10\" class=\"row_heading level0 row10\" >Mean</th>\n",
       "      <td id=\"T_3c263_row10_col0\" class=\"data row10 col0\" >0.8718</td>\n",
       "      <td id=\"T_3c263_row10_col1\" class=\"data row10 col1\" >0.9262</td>\n",
       "      <td id=\"T_3c263_row10_col2\" class=\"data row10 col2\" >0.9115</td>\n",
       "      <td id=\"T_3c263_row10_col3\" class=\"data row10 col3\" >0.8700</td>\n",
       "      <td id=\"T_3c263_row10_col4\" class=\"data row10 col4\" >0.8895</td>\n",
       "      <td id=\"T_3c263_row10_col5\" class=\"data row10 col5\" >0.7368</td>\n",
       "      <td id=\"T_3c263_row10_col6\" class=\"data row10 col6\" >0.7404</td>\n",
       "    </tr>\n",
       "    <tr>\n",
       "      <th id=\"T_3c263_level0_row11\" class=\"row_heading level0 row11\" >SD</th>\n",
       "      <td id=\"T_3c263_row11_col0\" class=\"data row11 col0\" >0.0314</td>\n",
       "      <td id=\"T_3c263_row11_col1\" class=\"data row11 col1\" >0.0302</td>\n",
       "      <td id=\"T_3c263_row11_col2\" class=\"data row11 col2\" >0.0425</td>\n",
       "      <td id=\"T_3c263_row11_col3\" class=\"data row11 col3\" >0.0355</td>\n",
       "      <td id=\"T_3c263_row11_col4\" class=\"data row11 col4\" >0.0275</td>\n",
       "      <td id=\"T_3c263_row11_col5\" class=\"data row11 col5\" >0.0642</td>\n",
       "      <td id=\"T_3c263_row11_col6\" class=\"data row11 col6\" >0.0651</td>\n",
       "    </tr>\n",
       "  </tbody>\n",
       "</table>\n"
      ],
      "text/plain": [
       "<pandas.io.formats.style.Styler at 0x7f053047b9a0>"
      ]
     },
     "metadata": {},
     "output_type": "display_data"
    }
   ],
   "source": [
    "blender_specific = blend_models(estimator_list = best_models[:2], method = 'soft')"
   ]
  },
  {
   "cell_type": "markdown",
   "id": "347a82a9-1c23-48cd-8e42-2dcb6c228003",
   "metadata": {},
   "source": [
    "tuned_best_model# Combining models"
   ]
  },
  {
   "cell_type": "markdown",
   "id": "fb58a8f2-3fb4-43c0-9bd8-faf3f776e361",
   "metadata": {},
   "source": [
    "# Analyze results"
   ]
  },
  {
   "cell_type": "code",
   "execution_count": 19,
   "id": "fc8ac52c-d565-41cc-80ce-3dbd06923627",
   "metadata": {},
   "outputs": [
    {
     "data": {
      "image/png": "[encoded data removed]",
      "text/plain": [
       "<Figure size 576x396 with 1 Axes>"
      ]
     },
     "metadata": {},
     "output_type": "display_data"
    }
   ],
   "source": [
    "data = plot_model(blender_specific) #Get an understanding of the data "
   ]
  },
  {
   "cell_type": "code",
   "execution_count": 20,
   "id": "3f0c730e-7ac4-48f2-9e89-2b6cb1fe5364",
   "metadata": {},
   "outputs": [
    {
     "data": {
      "image/png": "[encoded data removed]",
      "text/plain": [
       "<Figure size 576x396 with 1 Axes>"
      ]
     },
     "metadata": {},
     "output_type": "display_data"
    }
   ],
   "source": [
    "plot_model(blender_specific, plot = 'confusion_matrix') #look at the outliers"
   ]
  },
  {
   "cell_type": "code",
   "execution_count": 21,
   "id": "a20b5346-429f-4b3a-ac23-cd34d6f1f185",
   "metadata": {},
   "outputs": [
    {
     "data": {
      "text/html": [
       "<style type=\"text/css\">\n",
       "</style>\n",
       "<table id=\"T_d0fc2_\">\n",
       "  <thead>\n",
       "    <tr>\n",
       "      <th class=\"blank level0\" >&nbsp;</th>\n",
       "      <th class=\"col_heading level0 col0\" >Model</th>\n",
       "      <th class=\"col_heading level0 col1\" >Accuracy</th>\n",
       "      <th class=\"col_heading level0 col2\" >AUC</th>\n",
       "      <th class=\"col_heading level0 col3\" >Recall</th>\n",
       "      <th class=\"col_heading level0 col4\" >Prec.</th>\n",
       "      <th class=\"col_heading level0 col5\" >F1</th>\n",
       "      <th class=\"col_heading level0 col6\" >Kappa</th>\n",
       "      <th class=\"col_heading level0 col7\" >MCC</th>\n",
       "    </tr>\n",
       "  </thead>\n",
       "  <tbody>\n",
       "    <tr>\n",
       "      <th id=\"T_d0fc2_level0_row0\" class=\"row_heading level0 row0\" >0</th>\n",
       "      <td id=\"T_d0fc2_row0_col0\" class=\"data row0 col0\" >Voting Classifier</td>\n",
       "      <td id=\"T_d0fc2_row0_col1\" class=\"data row0 col1\" >0.8768</td>\n",
       "      <td id=\"T_d0fc2_row0_col2\" class=\"data row0 col2\" >0.9226</td>\n",
       "      <td id=\"T_d0fc2_row0_col3\" class=\"data row0 col3\" >0.9242</td>\n",
       "      <td id=\"T_d0fc2_row0_col4\" class=\"data row0 col4\" >0.8356</td>\n",
       "      <td id=\"T_d0fc2_row0_col5\" class=\"data row0 col5\" >0.8777</td>\n",
       "      <td id=\"T_d0fc2_row0_col6\" class=\"data row0 col6\" >0.7542</td>\n",
       "      <td id=\"T_d0fc2_row0_col7\" class=\"data row0 col7\" >0.7581</td>\n",
       "    </tr>\n",
       "  </tbody>\n",
       "</table>\n"
      ],
      "text/plain": [
       "<pandas.io.formats.style.Styler at 0x7f058c7824c0>"
      ]
     },
     "metadata": {},
     "output_type": "display_data"
    }
   ],
   "source": [
    "prediction_holdout = predict_model(blender_specific)"
   ]
  },
  {
   "cell_type": "markdown",
   "id": "32cfd668-ad2e-4411-9fc0-e67d115c7df2",
   "metadata": {},
   "source": [
    "## Train final model"
   ]
  },
  {
   "cell_type": "code",
   "execution_count": 22,
   "id": "82d6ba1c-8c34-4757-b581-fd5463ec5956",
   "metadata": {},
   "outputs": [],
   "source": [
    "final_model = finalize_model(blender_specific)"
   ]
  },
  {
   "cell_type": "markdown",
   "id": "b0c41387-71af-41c9-9a47-f753ac0bd6db",
   "metadata": {},
   "source": [
    "# Export model"
   ]
  },
  {
   "cell_type": "code",
   "execution_count": 23,
   "id": "ba094603-3791-4e95-a15d-3c4258e637b4",
   "metadata": {},
   "outputs": [
    {
     "name": "stdout",
     "output_type": "stream",
     "text": [
      "Transformation Pipeline and Model Succesfully Saved\n"
     ]
    },
    {
     "data": {
      "text/plain": [
       "(Pipeline(memory=None,\n",
       "          steps=[('dtypes',\n",
       "                  DataTypes_Auto_infer(categorical_features=[],\n",
       "                                       display_types=True, features_todrop=[],\n",
       "                                       id_columns=[],\n",
       "                                       ml_usecase='classification',\n",
       "                                       numerical_features=[],\n",
       "                                       target='HeartDisease',\n",
       "                                       time_features=[])),\n",
       "                 ('imputer',\n",
       "                  Simple_Imputer(categorical_strategy='not_available',\n",
       "                                 fill_value_categorical=None,\n",
       "                                 fill_value_numerical=None,\n",
       "                                 numeric...\n",
       "                  TunableVotingClassifier(estimators=[('catboost',\n",
       "                                                       <catboost.core.CatBoostClassifier object at 0x7f052986a700>),\n",
       "                                                      ('knn',\n",
       "                                                       KNeighborsClassifier(algorithm='auto',\n",
       "                                                                            leaf_size=30,\n",
       "                                                                            metric='minkowski',\n",
       "                                                                            metric_params=None,\n",
       "                                                                            n_jobs=-1,\n",
       "                                                                            n_neighbors=5,\n",
       "                                                                            p=2,\n",
       "                                                                            weights='uniform'))],\n",
       "                                          flatten_transform=True, n_jobs=-1,\n",
       "                                          verbose=False, voting='soft',\n",
       "                                          weight_0=1, weight_1=1,\n",
       "                                          weights=[1, 1])]],\n",
       "          verbose=False),\n",
       " 'final_model_heart_failure.pkl')"
      ]
     },
     "execution_count": 23,
     "metadata": {},
     "output_type": "execute_result"
    }
   ],
   "source": [
    "save_model(final_model,'final_model_heart_failure')"
   ]
  },
  {
   "cell_type": "code",
   "execution_count": null,
   "id": "2ca92e7a-6f08-4f40-982a-418dd9bd1cd3",
   "metadata": {},
   "outputs": [],
   "source": []
  }
 ],
 "metadata": {
  "kernelspec": {
   "display_name": "Python (py158)",
   "language": "python",
   "name": "py158"
  },
  "language_info": {
   "codemirror_mode": {
    "name": "ipython",
    "version": 3
   },
   "file_extension": ".py",
   "mimetype": "text/x-python",
   "name": "python",
   "nbconvert_exporter": "python",
   "pygments_lexer": "ipython3",
   "version": "3.9.7"
  }
 },
 "nbformat": 4,
 "nbformat_minor": 5
}
